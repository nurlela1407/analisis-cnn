{
 "cells": [
  {
   "cell_type": "code",
   "execution_count": 17,
   "id": "4fec14ac",
   "metadata": {},
   "outputs": [],
   "source": [
    "# import library\n",
    "import numpy as np \n",
    "import pandas as pd\n",
    "import re\n",
    "import os\n",
    "\n",
    "import matplotlib.pyplot as plt\n",
    "%matplotlib inline\n",
    "\n",
    "import keras\n",
    "import keras.utils\n",
    "from sklearn import preprocessing\n",
    "from keras.preprocessing.sequence import pad_sequences\n",
    "from keras.preprocessing.text import Tokenizer\n",
    "from keras.preprocessing import sequence\n",
    "from sklearn.preprocessing import LabelEncoder\n",
    "from keras.utils.np_utils import to_categorical\n",
    "from sklearn.model_selection import train_test_split\n",
    "\n",
    "from keras.models import Sequential\n",
    "from keras.layers import Dense, Dropout, Activation\n",
    "from keras.layers import Embedding\n",
    "from keras.layers import Conv1D, GlobalMaxPooling1D, MaxPooling1D, Flatten\n",
    "\n",
    "from functools import partial\n",
    "from keras import metrics"
   ]
  },
  {
   "cell_type": "code",
   "execution_count": 18,
   "id": "235366a0",
   "metadata": {},
   "outputs": [],
   "source": [
    "MAX_SEQUENCES_LENGTH = 50 # Maximum kata pada kalimat\n",
    "MAX_NB_WORDS = 6000 # Vocabulary size\n",
    "EMBEDDING_DIM = 50 # Dimensions of Glove word vector kadang bisa juga 100"
   ]
  },
  {
   "cell_type": "code",
   "execution_count": 19,
   "id": "3be3dafd",
   "metadata": {},
   "outputs": [
    {
     "data": {
      "text/html": [
       "<div>\n",
       "<style scoped>\n",
       "    .dataframe tbody tr th:only-of-type {\n",
       "        vertical-align: middle;\n",
       "    }\n",
       "\n",
       "    .dataframe tbody tr th {\n",
       "        vertical-align: top;\n",
       "    }\n",
       "\n",
       "    .dataframe thead th {\n",
       "        text-align: right;\n",
       "    }\n",
       "</style>\n",
       "<table border=\"1\" class=\"dataframe\">\n",
       "  <thead>\n",
       "    <tr style=\"text-align: right;\">\n",
       "      <th></th>\n",
       "      <th>created_at</th>\n",
       "      <th>screen_name</th>\n",
       "      <th>text</th>\n",
       "      <th>Label</th>\n",
       "    </tr>\n",
       "  </thead>\n",
       "  <tbody>\n",
       "    <tr>\n",
       "      <th>0</th>\n",
       "      <td>5/1/2021 16:48</td>\n",
       "      <td>theoholan</td>\n",
       "      <td>itu mah konflik rebutan tanah</td>\n",
       "      <td>0</td>\n",
       "    </tr>\n",
       "    <tr>\n",
       "      <th>1</th>\n",
       "      <td>5/3/2021 14:12</td>\n",
       "      <td>KoloElang</td>\n",
       "      <td>Bisa tidak? Palestina taat secara kaffah dala...</td>\n",
       "      <td>0</td>\n",
       "    </tr>\n",
       "    <tr>\n",
       "      <th>2</th>\n",
       "      <td>5/4/2021 5:55</td>\n",
       "      <td>viktorkonyolsky</td>\n",
       "      <td>Bagaimana mengelola/menghadapi pemberontakan:...</td>\n",
       "      <td>1</td>\n",
       "    </tr>\n",
       "    <tr>\n",
       "      <th>3</th>\n",
       "      <td>5/5/2021 10:27</td>\n",
       "      <td>ambiszen</td>\n",
       "      <td>kalo palestina rohingya lebih ke konflik polit...</td>\n",
       "      <td>0</td>\n",
       "    </tr>\n",
       "    <tr>\n",
       "      <th>4</th>\n",
       "      <td>5/5/2021 10:54</td>\n",
       "      <td>NephiLaxmus</td>\n",
       "      <td>Teroris 'islam' Itu gejala baru terutama seba...</td>\n",
       "      <td>0</td>\n",
       "    </tr>\n",
       "  </tbody>\n",
       "</table>\n",
       "</div>"
      ],
      "text/plain": [
       "       created_at      screen_name  \\\n",
       "0  5/1/2021 16:48        theoholan   \n",
       "1  5/3/2021 14:12        KoloElang   \n",
       "2   5/4/2021 5:55  viktorkonyolsky   \n",
       "3  5/5/2021 10:27         ambiszen   \n",
       "4  5/5/2021 10:54      NephiLaxmus   \n",
       "\n",
       "                                                text  Label  \n",
       "0                      itu mah konflik rebutan tanah      0  \n",
       "1   Bisa tidak? Palestina taat secara kaffah dala...      0  \n",
       "2   Bagaimana mengelola/menghadapi pemberontakan:...      1  \n",
       "3  kalo palestina rohingya lebih ke konflik polit...      0  \n",
       "4   Teroris 'islam' Itu gejala baru terutama seba...      0  "
      ]
     },
     "execution_count": 19,
     "metadata": {},
     "output_type": "execute_result"
    }
   ],
   "source": [
    "# open dataset,save on dataframe\n",
    "df = pd.read_csv(\"dataset.csv\",encoding=\"ISO-8859-1\")\n",
    "\n",
    "# membuka data slang (data yang akan dibenarkan)\n",
    "with open('slang.txt') as file:\n",
    "    slang_map = dict(map(str.strip, line.partition('\\t')[::2])\n",
    "    for line in file if line.strip())\n",
    "    \n",
    "df.head()"
   ]
  },
  {
   "cell_type": "code",
   "execution_count": 20,
   "id": "3454c6db",
   "metadata": {},
   "outputs": [],
   "source": [
    "# drop column created_at and screen_name\n",
    "df = df.drop(['created_at', 'screen_name'], axis=1)"
   ]
  },
  {
   "cell_type": "code",
   "execution_count": 21,
   "id": "c1889808",
   "metadata": {},
   "outputs": [
    {
     "data": {
      "text/html": [
       "<div>\n",
       "<style scoped>\n",
       "    .dataframe tbody tr th:only-of-type {\n",
       "        vertical-align: middle;\n",
       "    }\n",
       "\n",
       "    .dataframe tbody tr th {\n",
       "        vertical-align: top;\n",
       "    }\n",
       "\n",
       "    .dataframe thead th {\n",
       "        text-align: right;\n",
       "    }\n",
       "</style>\n",
       "<table border=\"1\" class=\"dataframe\">\n",
       "  <thead>\n",
       "    <tr style=\"text-align: right;\">\n",
       "      <th></th>\n",
       "      <th>text</th>\n",
       "      <th>Label</th>\n",
       "    </tr>\n",
       "  </thead>\n",
       "  <tbody>\n",
       "    <tr>\n",
       "      <th>0</th>\n",
       "      <td>itu mah konflik rebutan tanah</td>\n",
       "      <td>0</td>\n",
       "    </tr>\n",
       "    <tr>\n",
       "      <th>1</th>\n",
       "      <td>Bisa tidak? Palestina taat secara kaffah dala...</td>\n",
       "      <td>0</td>\n",
       "    </tr>\n",
       "    <tr>\n",
       "      <th>2</th>\n",
       "      <td>Bagaimana mengelola/menghadapi pemberontakan:...</td>\n",
       "      <td>1</td>\n",
       "    </tr>\n",
       "    <tr>\n",
       "      <th>3</th>\n",
       "      <td>kalo palestina rohingya lebih ke konflik polit...</td>\n",
       "      <td>0</td>\n",
       "    </tr>\n",
       "    <tr>\n",
       "      <th>4</th>\n",
       "      <td>Teroris 'islam' Itu gejala baru terutama seba...</td>\n",
       "      <td>0</td>\n",
       "    </tr>\n",
       "  </tbody>\n",
       "</table>\n",
       "</div>"
      ],
      "text/plain": [
       "                                                text  Label\n",
       "0                      itu mah konflik rebutan tanah      0\n",
       "1   Bisa tidak? Palestina taat secara kaffah dala...      0\n",
       "2   Bagaimana mengelola/menghadapi pemberontakan:...      1\n",
       "3  kalo palestina rohingya lebih ke konflik polit...      0\n",
       "4   Teroris 'islam' Itu gejala baru terutama seba...      0"
      ]
     },
     "execution_count": 21,
     "metadata": {},
     "output_type": "execute_result"
    }
   ],
   "source": [
    "df.head()"
   ]
  },
  {
   "cell_type": "code",
   "execution_count": 22,
   "id": "e38bc724",
   "metadata": {},
   "outputs": [],
   "source": [
    "# Pre-Processing dataset\n",
    "# fungsi case folding dan menghapus RT dan CC\n",
    "def casefoldingRemoveRt(text):\n",
    "     # menghapus RT (reetwet)\n",
    "    text = re.sub(r'^[RT]+', '', text) \n",
    "    # case folding (menjadi lower case)\n",
    "    text = text.lower()\n",
    "    # menghapus CC (carbon copy)\n",
    "    text = re.sub(r'^[cc]+', '', text)\n",
    "    return text\n",
    "\n",
    "# fungsi untuk menghapus noise\n",
    "def removeNoise(text): \n",
    "    # menghapus unicode\n",
    "    text = re.sub(r'(\\\\u[0-9A-Fa-f]+)','', text)\n",
    "    # menghapus emoticon\n",
    "    text = re.sub(r'[^\\x00-\\x7f]','',text)\n",
    "    # menghapus url\n",
    "    text = re.sub('((www\\.[^\\s]+)|(https?://[^\\s]+))','',text) \n",
    "    # menghapus # (biasanya utk menandai topik tertentu)\n",
    "    text = re.sub(r'#([^\\s]+)', '', text) \n",
    "    # menghapus \"@users\"\n",
    "    text = re.sub('@[^\\s]+','',text)\n",
    "    return text\n",
    "\n",
    "# mengganti kata2 slang menjadi lebih baku\n",
    "slang_words = sorted(slang_map, key=len, reverse=True) # longest first for regex\n",
    "regex = re.compile(r\"\\b({})\\b\".format(\"|\".join(map(re.escape, slang_words))))\n",
    "replaceSlang = partial(regex.sub, lambda m: slang_map[m.group(1)])\n",
    "\n",
    "def removePunctuation(text): \n",
    "    # menghapus integers/numbers\n",
    "    text = ''.join([i for i in text if not i.isdigit()]) \n",
    "    # khusus untuk tanda baca ' (dirapatkan dengan text)\n",
    "    text = re.sub(\"'\",'',text)\n",
    "    # menghapus punctuation (tanda baca)\n",
    "    text = re.sub(r\"[^A-Za-z]+\",\" \",text)\n",
    "    # menghapus 1 karakter\n",
    "    text = re.sub('(\\\\b[A-Za-z] \\\\b|\\\\b [A-Za-z]\\\\b)', '', text)\n",
    "    # menghapus whitespace\n",
    "    text = ' '.join(text.split())\n",
    "    return text"
   ]
  },
  {
   "cell_type": "code",
   "execution_count": 23,
   "id": "058f9dec",
   "metadata": {},
   "outputs": [],
   "source": [
    "df['text'] = df['text'].apply(lambda x: casefoldingRemoveRt(x))\n",
    "df['text'] = df['text'].apply(lambda x: removeNoise(x))\n",
    "df['text'] = df['text'].apply(lambda x: replaceSlang(x))\n",
    "df['text'] = df['text'].apply(lambda x: removePunctuation(x))"
   ]
  },
  {
   "cell_type": "code",
   "execution_count": 24,
   "id": "8ac98b1c",
   "metadata": {},
   "outputs": [
    {
     "data": {
      "text/html": [
       "<div>\n",
       "<style scoped>\n",
       "    .dataframe tbody tr th:only-of-type {\n",
       "        vertical-align: middle;\n",
       "    }\n",
       "\n",
       "    .dataframe tbody tr th {\n",
       "        vertical-align: top;\n",
       "    }\n",
       "\n",
       "    .dataframe thead th {\n",
       "        text-align: right;\n",
       "    }\n",
       "</style>\n",
       "<table border=\"1\" class=\"dataframe\">\n",
       "  <thead>\n",
       "    <tr style=\"text-align: right;\">\n",
       "      <th></th>\n",
       "      <th>text</th>\n",
       "      <th>Label</th>\n",
       "    </tr>\n",
       "  </thead>\n",
       "  <tbody>\n",
       "    <tr>\n",
       "      <th>0</th>\n",
       "      <td>itu mah konflik rebutan tanah</td>\n",
       "      <td>0</td>\n",
       "    </tr>\n",
       "    <tr>\n",
       "      <th>1</th>\n",
       "      <td>bisa tidak palestina taat secara kaffah dalam ...</td>\n",
       "      <td>0</td>\n",
       "    </tr>\n",
       "    <tr>\n",
       "      <th>2</th>\n",
       "      <td>bagaimana mengelola menghadapi pemberontakan b...</td>\n",
       "      <td>1</td>\n",
       "    </tr>\n",
       "    <tr>\n",
       "      <th>3</th>\n",
       "      <td>kalau palestina rohingya lebih ke konflik poli...</td>\n",
       "      <td>0</td>\n",
       "    </tr>\n",
       "    <tr>\n",
       "      <th>4</th>\n",
       "      <td>teroris islam itu gejala baru terutama sebagai...</td>\n",
       "      <td>0</td>\n",
       "    </tr>\n",
       "  </tbody>\n",
       "</table>\n",
       "</div>"
      ],
      "text/plain": [
       "                                                text  Label\n",
       "0                      itu mah konflik rebutan tanah      0\n",
       "1  bisa tidak palestina taat secara kaffah dalam ...      0\n",
       "2  bagaimana mengelola menghadapi pemberontakan b...      1\n",
       "3  kalau palestina rohingya lebih ke konflik poli...      0\n",
       "4  teroris islam itu gejala baru terutama sebagai...      0"
      ]
     },
     "execution_count": 24,
     "metadata": {},
     "output_type": "execute_result"
    }
   ],
   "source": [
    "df.head()"
   ]
  },
  {
   "cell_type": "code",
   "execution_count": 25,
   "id": "41243e49",
   "metadata": {},
   "outputs": [],
   "source": [
    " # Tokenizing\n",
    "from nltk.tokenize import word_tokenize "
   ]
  },
  {
   "cell_type": "code",
   "execution_count": 26,
   "id": "085d4eb6",
   "metadata": {},
   "outputs": [],
   "source": [
    "# Lakukan tokenizer terlebih dahulu\n",
    "stop = pd.read_csv('stopword.txt', sep=\" \", header=None)"
   ]
  },
  {
   "cell_type": "code",
   "execution_count": 27,
   "id": "49c8373c",
   "metadata": {},
   "outputs": [],
   "source": [
    "# Stop Word\n",
    "from Sastrawi.StopWordRemover.StopWordRemoverFactory import StopWordRemoverFactory\n",
    "factory = StopWordRemoverFactory()\n",
    "stopword = factory.create_stop_word_remover()"
   ]
  },
  {
   "cell_type": "code",
   "execution_count": 29,
   "id": "61c9772a",
   "metadata": {},
   "outputs": [
    {
     "data": {
      "text/plain": [
       "0                               mah konflik rebutan tanah\n",
       "1       palestina taat kaffah islam mengganti demokras...\n",
       "2       mengelola menghadapi pemberontakan berunding m...\n",
       "3       palestina rohingya konflik politik si oknum te...\n",
       "4       teroris islam gejala imbas konflik israel pale...\n",
       "                              ...                        \n",
       "1541    satukan hati satukan tekad satulan langkah bur...\n",
       "1542    ngelihatnya gencatan senjata sengaja mengulur ...\n",
       "1543    bergembira merayakan gencatan senjata israel h...\n",
       "1544    lucu sih die hard fans konflik israel palestin...\n",
       "1545             zionis deh langgar gencatan senjata fuck\n",
       "Name: text, Length: 1546, dtype: object"
      ]
     },
     "execution_count": 29,
     "metadata": {},
     "output_type": "execute_result"
    }
   ],
   "source": [
    "def stopWord(text):\n",
    "    stop = stopword.remove(text)\n",
    "    return stop\n",
    "\n",
    "df['text'] = df['text'].apply(lambda x: stopWord(x))\n",
    "df['text']"
   ]
  },
  {
   "cell_type": "code",
   "execution_count": 30,
   "id": "43c9ac69",
   "metadata": {},
   "outputs": [],
   "source": [
    "# delete missing value \n",
    "nan_value = float('NaN')\n",
    "df.replace('', nan_value, inplace=True)\n",
    "df.dropna(subset=['text'], inplace=True)"
   ]
  },
  {
   "cell_type": "code",
   "execution_count": 31,
   "id": "94656eb1",
   "metadata": {},
   "outputs": [
    {
     "name": "stdout",
     "output_type": "stream",
     "text": [
      "0    653\n",
      "2    524\n",
      "1    369\n",
      "Name: Label, dtype: int64\n"
     ]
    },
    {
     "data": {
      "image/png": "[encoded data removed]",
      "text/plain": [
       "<Figure size 432x288 with 1 Axes>"
      ]
     },
     "metadata": {
      "needs_background": "light"
     },
     "output_type": "display_data"
    }
   ],
   "source": [
    "# menghitung Label sentimen (menampilkan tabel pembagian label sentimen)\n",
    "labels = df.Label\n",
    "labels_count = labels.value_counts()\n",
    "labels_count.plot(kind=\"bar\", x='Label', y='Jumlah', color='red')\n",
    "print(labels.value_counts())"
   ]
  },
  {
   "cell_type": "code",
   "execution_count": 109,
   "id": "a1468f81",
   "metadata": {},
   "outputs": [],
   "source": [
    "# convert to CSV\n",
    "#df.to_csv('stopwordste.csv', encoding='utf-8', index=False)"
   ]
  },
  {
   "cell_type": "code",
   "execution_count": 32,
   "id": "d1473266",
   "metadata": {},
   "outputs": [],
   "source": [
    "# Prepare to X as Feature\n",
    "tokenizer = Tokenizer()\n",
    "tokenizer.fit_on_texts(df.text)\n",
    "sequences = tokenizer.texts_to_sequences(df.text)\n",
    "# Banyak kata yang telah di tokenizer\n",
    "word_index = tokenizer.word_index"
   ]
  },
  {
   "cell_type": "code",
   "execution_count": 33,
   "id": "31b6f608",
   "metadata": {},
   "outputs": [
    {
     "name": "stdout",
     "output_type": "stream",
     "text": [
      "Found 4384 unique words.\n"
     ]
    }
   ],
   "source": [
    "print('Found %d unique words.' % len(word_index))"
   ]
  },
  {
   "cell_type": "code",
   "execution_count": 34,
   "id": "0cdd8e1f",
   "metadata": {},
   "outputs": [],
   "source": [
    "X = pad_sequences(sequences, maxlen=MAX_SEQUENCES_LENGTH, padding='post')"
   ]
  },
  {
   "cell_type": "code",
   "execution_count": 35,
   "id": "ba2edf14",
   "metadata": {},
   "outputs": [],
   "source": [
    "# Prepare to y as label\n",
    "y = df[\"Label\"]\n",
    "y = to_categorical(y)"
   ]
  },
  {
   "cell_type": "code",
   "execution_count": 36,
   "id": "156c6780",
   "metadata": {},
   "outputs": [],
   "source": [
    "classes = ['0', '1', '2']"
   ]
  },
  {
   "cell_type": "code",
   "execution_count": 62,
   "id": "772aecf4",
   "metadata": {},
   "outputs": [
    {
     "ename": "SyntaxError",
     "evalue": "invalid syntax (Temp/ipykernel_12500/1963518426.py, line 2)",
     "output_type": "error",
     "traceback": [
      "\u001b[1;36m  File \u001b[1;32m\"C:\\Users\\USER\\AppData\\Local\\Temp/ipykernel_12500/1963518426.py\"\u001b[1;36m, line \u001b[1;32m2\u001b[0m\n\u001b[1;33m    X_train, X_test, y_train, y_test = train_test_split(X, y, test_size=0.1 random_state=20, stratify=y)\u001b[0m\n\u001b[1;37m                                                                            ^\u001b[0m\n\u001b[1;31mSyntaxError\u001b[0m\u001b[1;31m:\u001b[0m invalid syntax\n"
     ]
    }
   ],
   "source": [
    "# Split Dataset\n",
    "X_train, X_test, y_train, y_test = train_test_split(X, y, test_size=0.1 random_state=20, stratify=y)"
   ]
  },
  {
   "cell_type": "code",
   "execution_count": 49,
   "id": "1dae2440",
   "metadata": {},
   "outputs": [
    {
     "name": "stdout",
     "output_type": "stream",
     "text": [
      "Indexing word vectors.\n",
      "Found 331286 word vectors.\n"
     ]
    }
   ],
   "source": [
    "# open Glove\n",
    "print('Indexing word vectors.')\n",
    "\n",
    "embeddings_index = {}\n",
    "f = open(os.path.join('dataset/glove/vectors.txt'), encoding='utf-8')\n",
    "for line in f:\n",
    "    values = line.split()\n",
    "    word = values[0]\n",
    "    coefs = np.asarray(values[1:], dtype='float32')\n",
    "    embeddings_index[word] = coefs\n",
    "f.close()\n",
    "\n",
    "print('Found %s word vectors.' % len(embeddings_index))"
   ]
  },
  {
   "cell_type": "code",
   "execution_count": 50,
   "id": "30437490",
   "metadata": {},
   "outputs": [],
   "source": [
    "# Use GloVe as Word Embedding\n",
    "hits = 0\n",
    "misses = 0\n",
    "index = []\n",
    "num_words = min(MAX_NB_WORDS, len(word_index))\n",
    "embedding_matrix = np.zeros((len(word_index) + 1, EMBEDDING_DIM))\n",
    "for word, i in word_index.items():\n",
    "    embedding_vector = embeddings_index.get(word)\n",
    "    if embedding_vector is not None:\n",
    "        # words not found in embedding index will be all-zeros.\n",
    "        embedding_matrix[i] = embedding_vector\n",
    "        hits += 1\n",
    "    else:\n",
    "        misses += 1\n",
    "        index.append(word)"
   ]
  },
  {
   "cell_type": "code",
   "execution_count": 51,
   "id": "0371c005",
   "metadata": {},
   "outputs": [
    {
     "data": {
      "text/plain": [
       "array([-4.327230e-01, -3.119420e-01,  1.094491e+00, -2.145950e-01,\n",
       "        7.534390e-01,  1.659070e+00,  4.936180e-01,  1.409000e-03,\n",
       "        4.884600e-01,  2.542550e-01, -4.979390e-01,  5.617340e-01,\n",
       "        7.850000e-04,  4.132720e-01, -1.368150e-01, -9.046870e-01,\n",
       "        1.362670e-01,  4.538210e-01, -5.378070e-01, -3.954030e-01,\n",
       "        4.325460e-01,  1.985550e-01,  9.402100e-01,  7.971500e-01,\n",
       "       -3.500120e-01, -1.429267e+00, -2.684250e-01,  1.794200e-02,\n",
       "       -5.229970e-01, -3.316800e-02, -6.168300e-02, -3.128350e-01,\n",
       "        6.554350e-01,  6.181870e-01, -6.873700e-01, -4.817520e-01,\n",
       "       -3.157320e-01,  5.082510e-01, -7.406850e-01,  3.074100e-01,\n",
       "       -1.201028e+00, -1.213599e+00,  1.140920e-01,  3.905700e-02,\n",
       "        6.468660e-01, -1.947500e-02, -4.191220e-01, -5.519950e-01,\n",
       "        6.553630e-01,  4.248600e-01], dtype=float32)"
      ]
     },
     "execution_count": 51,
     "metadata": {},
     "output_type": "execute_result"
    }
   ],
   "source": [
    "test = embeddings_index.get(\"netizen\")\n",
    "test"
   ]
  },
  {
   "cell_type": "code",
   "execution_count": 53,
   "id": "55ec111a",
   "metadata": {},
   "outputs": [],
   "source": [
    "# Embedding layer with glove\n",
    "embedding_layer = Embedding(len(word_index) + 1, EMBEDDING_DIM, input_length=MAX_SEQUENCES_LENGTH,weights=[embedding_matrix],trainable=True)"
   ]
  },
  {
   "cell_type": "code",
   "execution_count": 54,
   "id": "9c4559ba",
   "metadata": {},
   "outputs": [],
   "source": [
    "# Create Model CNN\n",
    "# model 2\n",
    "def create_model():\n",
    "    model = Sequential()\n",
    "    model.add(embedding_layer)\n",
    "    model.add(Conv1D(filters=128, kernel_size=3, activation='relu', padding='same'))\n",
    "#     model.add(GlobalMaxPooling1D())\n",
    "    model.add(Dropout(0.3))\n",
    "    model.add(MaxPooling1D(pool_size=2))\n",
    "    model.add(Dropout(0.3))\n",
    "    model.add(Conv1D(filters=64, kernel_size=3, activation='relu', padding='same'))\n",
    "    model.add(Dropout(0.3))\n",
    "    model.add(GlobalMaxPooling1D())\n",
    "#     model.add(Flatten())\n",
    "    model.add(Dense(32,activation=\"relu\"))\n",
    "    model.add(Dropout(0.3))\n",
    "    model.add(Dense(3, activation='softmax'))\n",
    "    model.compile(loss='categorical_crossentropy', optimizer='adam', metrics=['accuracy'])\n",
    "    model.summary()\n",
    "    return model"
   ]
  },
  {
   "cell_type": "code",
   "execution_count": 45,
   "id": "e25cb88f",
   "metadata": {},
   "outputs": [
    {
     "name": "stdout",
     "output_type": "stream",
     "text": [
      "Model: \"sequential\"\n",
      "_________________________________________________________________\n",
      " Layer (type)                Output Shape              Param #   \n",
      "=================================================================\n",
      " embedding (Embedding)       (None, 50, 50)            219250    \n",
      "                                                                 \n",
      " conv1d (Conv1D)             (None, 50, 128)           19328     \n",
      "                                                                 \n",
      " dropout (Dropout)           (None, 50, 128)           0         \n",
      "                                                                 \n",
      " max_pooling1d (MaxPooling1D  (None, 25, 128)          0         \n",
      " )                                                               \n",
      "                                                                 \n",
      " dropout_1 (Dropout)         (None, 25, 128)           0         \n",
      "                                                                 \n",
      " conv1d_1 (Conv1D)           (None, 25, 64)            24640     \n",
      "                                                                 \n",
      " dropout_2 (Dropout)         (None, 25, 64)            0         \n",
      "                                                                 \n",
      " global_max_pooling1d (Globa  (None, 64)               0         \n",
      " lMaxPooling1D)                                                  \n",
      "                                                                 \n",
      " dense (Dense)               (None, 32)                2080      \n",
      "                                                                 \n",
      " dropout_3 (Dropout)         (None, 32)                0         \n",
      "                                                                 \n",
      " dense_1 (Dense)             (None, 3)                 99        \n",
      "                                                                 \n",
      "=================================================================\n",
      "Total params: 265,397\n",
      "Trainable params: 265,397\n",
      "Non-trainable params: 0\n",
      "_________________________________________________________________\n"
     ]
    }
   ],
   "source": [
    "# Train Model\n",
    "cnn_model = create_model()"
   ]
  },
  {
   "cell_type": "code",
   "execution_count": 60,
   "id": "10721752",
   "metadata": {},
   "outputs": [
    {
     "name": "stdout",
     "output_type": "stream",
     "text": [
      "Epoch 1/40\n",
      "34/34 [==============================] - 1s 27ms/step - loss: 0.0163 - accuracy: 0.9917 - val_loss: 2.1163 - val_accuracy: 0.8211\n",
      "Epoch 2/40\n",
      "34/34 [==============================] - 1s 30ms/step - loss: 0.0305 - accuracy: 0.9908 - val_loss: 2.0340 - val_accuracy: 0.8319\n",
      "Epoch 3/40\n",
      "34/34 [==============================] - 1s 26ms/step - loss: 0.0134 - accuracy: 0.9917 - val_loss: 1.8570 - val_accuracy: 0.8319\n",
      "Epoch 4/40\n",
      "34/34 [==============================] - 1s 27ms/step - loss: 0.0097 - accuracy: 0.9945 - val_loss: 2.0526 - val_accuracy: 0.8362\n",
      "Epoch 5/40\n",
      "34/34 [==============================] - 1s 25ms/step - loss: 0.0229 - accuracy: 0.9889 - val_loss: 2.3616 - val_accuracy: 0.8254\n",
      "Epoch 6/40\n",
      "34/34 [==============================] - 1s 25ms/step - loss: 0.0179 - accuracy: 0.9935 - val_loss: 2.0933 - val_accuracy: 0.8297\n",
      "Epoch 7/40\n",
      "34/34 [==============================] - 1s 24ms/step - loss: 0.0074 - accuracy: 0.9972 - val_loss: 2.2479 - val_accuracy: 0.8341\n",
      "Epoch 8/40\n",
      "34/34 [==============================] - 1s 24ms/step - loss: 0.0146 - accuracy: 0.9945 - val_loss: 2.1900 - val_accuracy: 0.8254\n",
      "Epoch 9/40\n",
      "34/34 [==============================] - 1s 24ms/step - loss: 0.0209 - accuracy: 0.9898 - val_loss: 1.9621 - val_accuracy: 0.8319\n",
      "Epoch 10/40\n",
      "34/34 [==============================] - 1s 24ms/step - loss: 0.0302 - accuracy: 0.9926 - val_loss: 1.6043 - val_accuracy: 0.8254\n",
      "Epoch 11/40\n",
      "34/34 [==============================] - 1s 26ms/step - loss: 0.0116 - accuracy: 0.9926 - val_loss: 1.8274 - val_accuracy: 0.8341\n",
      "Epoch 12/40\n",
      "34/34 [==============================] - 1s 25ms/step - loss: 0.0137 - accuracy: 0.9935 - val_loss: 1.7906 - val_accuracy: 0.8297\n",
      "Epoch 13/40\n",
      "34/34 [==============================] - 1s 25ms/step - loss: 0.0130 - accuracy: 0.9935 - val_loss: 1.7471 - val_accuracy: 0.8427\n",
      "Epoch 14/40\n",
      "34/34 [==============================] - 1s 26ms/step - loss: 0.0080 - accuracy: 0.9982 - val_loss: 1.8819 - val_accuracy: 0.8362\n",
      "Epoch 15/40\n",
      "34/34 [==============================] - 1s 25ms/step - loss: 0.0081 - accuracy: 0.9954 - val_loss: 1.9538 - val_accuracy: 0.8384\n",
      "Epoch 16/40\n",
      "34/34 [==============================] - 1s 24ms/step - loss: 0.0127 - accuracy: 0.9926 - val_loss: 2.0896 - val_accuracy: 0.8297\n",
      "Epoch 17/40\n",
      "34/34 [==============================] - 1s 27ms/step - loss: 0.0097 - accuracy: 0.9954 - val_loss: 1.8957 - val_accuracy: 0.8362\n",
      "Epoch 18/40\n",
      "34/34 [==============================] - 1s 29ms/step - loss: 0.0117 - accuracy: 0.9945 - val_loss: 1.7534 - val_accuracy: 0.8362\n",
      "Epoch 19/40\n",
      "34/34 [==============================] - 1s 30ms/step - loss: 0.0227 - accuracy: 0.9908 - val_loss: 1.9172 - val_accuracy: 0.8384\n",
      "Epoch 20/40\n",
      "34/34 [==============================] - 1s 24ms/step - loss: 0.0148 - accuracy: 0.9935 - val_loss: 2.1424 - val_accuracy: 0.8297\n",
      "Epoch 21/40\n",
      "34/34 [==============================] - 1s 23ms/step - loss: 0.0119 - accuracy: 0.9926 - val_loss: 1.9902 - val_accuracy: 0.8384\n",
      "Epoch 22/40\n",
      "34/34 [==============================] - 1s 23ms/step - loss: 0.0104 - accuracy: 0.9935 - val_loss: 2.0689 - val_accuracy: 0.8341\n",
      "Epoch 23/40\n",
      "34/34 [==============================] - 1s 27ms/step - loss: 0.0104 - accuracy: 0.9972 - val_loss: 2.0007 - val_accuracy: 0.8384\n",
      "Epoch 24/40\n",
      "34/34 [==============================] - 1s 25ms/step - loss: 0.0163 - accuracy: 0.9926 - val_loss: 2.2936 - val_accuracy: 0.8319\n",
      "Epoch 25/40\n",
      "34/34 [==============================] - 1s 24ms/step - loss: 0.0142 - accuracy: 0.9935 - val_loss: 1.9752 - val_accuracy: 0.8319\n",
      "Epoch 26/40\n",
      "34/34 [==============================] - 1s 24ms/step - loss: 0.0117 - accuracy: 0.9945 - val_loss: 2.0691 - val_accuracy: 0.8319\n",
      "Epoch 27/40\n",
      "34/34 [==============================] - 1s 26ms/step - loss: 0.0146 - accuracy: 0.9954 - val_loss: 2.1350 - val_accuracy: 0.8254\n",
      "Epoch 28/40\n",
      "34/34 [==============================] - 1s 23ms/step - loss: 0.0121 - accuracy: 0.9917 - val_loss: 1.9526 - val_accuracy: 0.8362\n",
      "Epoch 29/40\n",
      "34/34 [==============================] - 1s 24ms/step - loss: 0.0129 - accuracy: 0.9917 - val_loss: 1.9032 - val_accuracy: 0.8362\n",
      "Epoch 30/40\n",
      "34/34 [==============================] - 1s 23ms/step - loss: 0.0104 - accuracy: 0.9945 - val_loss: 2.0685 - val_accuracy: 0.8319\n",
      "Epoch 31/40\n",
      "34/34 [==============================] - 1s 23ms/step - loss: 0.0092 - accuracy: 0.9945 - val_loss: 2.0082 - val_accuracy: 0.8362\n",
      "Epoch 32/40\n",
      "34/34 [==============================] - 1s 25ms/step - loss: 0.0080 - accuracy: 0.9963 - val_loss: 2.0861 - val_accuracy: 0.8341\n",
      "Epoch 33/40\n",
      "34/34 [==============================] - 1s 23ms/step - loss: 0.0083 - accuracy: 0.9963 - val_loss: 2.1455 - val_accuracy: 0.8341\n",
      "Epoch 34/40\n",
      "34/34 [==============================] - 1s 22ms/step - loss: 0.0075 - accuracy: 0.9945 - val_loss: 2.1945 - val_accuracy: 0.8319\n",
      "Epoch 35/40\n",
      "34/34 [==============================] - 1s 24ms/step - loss: 0.0115 - accuracy: 0.9935 - val_loss: 2.0890 - val_accuracy: 0.8405\n",
      "Epoch 36/40\n",
      "34/34 [==============================] - 1s 24ms/step - loss: 0.0211 - accuracy: 0.9917 - val_loss: 2.1565 - val_accuracy: 0.8211\n",
      "Epoch 37/40\n",
      "34/34 [==============================] - 1s 22ms/step - loss: 0.0115 - accuracy: 0.9935 - val_loss: 1.9244 - val_accuracy: 0.8384\n",
      "Epoch 38/40\n",
      "34/34 [==============================] - 1s 26ms/step - loss: 0.0125 - accuracy: 0.9908 - val_loss: 2.0653 - val_accuracy: 0.8470\n",
      "Epoch 39/40\n",
      "34/34 [==============================] - 1s 24ms/step - loss: 0.0303 - accuracy: 0.9908 - val_loss: 2.0615 - val_accuracy: 0.8297\n",
      "Epoch 40/40\n",
      "34/34 [==============================] - 1s 24ms/step - loss: 0.0111 - accuracy: 0.9926 - val_loss: 1.9526 - val_accuracy: 0.8362\n"
     ]
    }
   ],
   "source": [
    "cnn_history = cnn_model.fit(X_train, y_train, epochs=40, validation_data=(X_test, y_test))"
   ]
  },
  {
   "cell_type": "code",
   "execution_count": 61,
   "id": "b5f05fc9",
   "metadata": {},
   "outputs": [
    {
     "name": "stdout",
     "output_type": "stream",
     "text": [
      "CNN Accuracy: 0.8362068965517241\n"
     ]
    },
    {
     "data": {
      "image/png": "[encoded data removed]",
      "text/plain": [
       "<Figure size 1440x1152 with 2 Axes>"
      ]
     },
     "metadata": {
      "needs_background": "light"
     },
     "output_type": "display_data"
    }
   ],
   "source": [
    "from sklearn.metrics import accuracy_score, confusion_matrix\n",
    "import seaborn as sns\n",
    "ypred = cnn_model.predict(X_test)\n",
    "cnn_accuracy = accuracy_score(y_test.argmax(axis=-1),ypred.argmax(axis=-1))\n",
    "print(\"CNN Accuracy:\",cnn_accuracy)\n",
    "cnn_cn = confusion_matrix(y_test.argmax(axis=-1),ypred.argmax(axis=-1))\n",
    "plt.subplots(figsize=(20,16))\n",
    "sns.heatmap(cnn_cn,annot=True,fmt=\"1d\",cmap=\"Blues\",cbar=True,xticklabels=classes,yticklabels=classes)\n",
    "plt.xlabel(\"Predicted\",fontsize=15)\n",
    "plt.ylabel(\"Actual\",fontsize=15)\n",
    "# plt.savefig('model60_e40.png')\n",
    "plt.show()"
   ]
  },
  {
   "cell_type": "code",
   "execution_count": 58,
   "id": "f01e0c4c",
   "metadata": {},
   "outputs": [
    {
     "name": "stdout",
     "output_type": "stream",
     "text": [
      "              precision    recall  f1-score   support\n",
      "\n",
      "           0       0.82      0.86      0.84       196\n",
      "           1       0.83      0.78      0.81       111\n",
      "           2       0.89      0.87      0.88       157\n",
      "\n",
      "    accuracy                           0.84       464\n",
      "   macro avg       0.85      0.84      0.84       464\n",
      "weighted avg       0.85      0.84      0.84       464\n",
      "\n"
     ]
    }
   ],
   "source": [
    "from sklearn.metrics import classification_report\n",
    "print(classification_report(y_test.argmax(axis=-1), ypred.argmax(axis=-1),target_names= classes))"
   ]
  },
  {
   "cell_type": "code",
   "execution_count": 59,
   "id": "b3273d41",
   "metadata": {},
   "outputs": [
    {
     "data": {
      "image/png": "[encoded data removed]",
      "text/plain": [
       "<Figure size 1080x360 with 2 Axes>"
      ]
     },
     "metadata": {
      "needs_background": "light"
     },
     "output_type": "display_data"
    }
   ],
   "source": [
    "fig3, axe1 = plt.subplots(nrows=1, ncols=2, figsize=(15,5))\n",
    "axe1[0].plot(cnn_history.history[\"accuracy\"],label=\"accuracy\")\n",
    "axe1[0].plot(cnn_history.history[\"val_accuracy\"],label=\"accuracy\")\n",
    "axe1[0].legend(['train', 'val'], loc='upper left')\n",
    "axe1[1].plot(cnn_history.history[\"loss\"],label=\"loss\")\n",
    "axe1[1].plot(cnn_history.history[\"val_loss\"],label=\"loss\")\n",
    "axe1[1].legend(['train', 'val'], loc='upper left')\n",
    "axe1[0].title.set_text(\"CNN Accuracy\")\n",
    "axe1[1].title.set_text(\"CNN Loss\")\n",
    "axe1[0].set_xlabel(\"Epoch\")\n",
    "axe1[1].set_xlabel(\"Epoch\")\n",
    "axe1[0].set_ylabel(\"Rate\")\n",
    "plt.show()"
   ]
  },
  {
   "cell_type": "code",
   "execution_count": null,
   "id": "7098bf11",
   "metadata": {},
   "outputs": [],
   "source": []
  }
 ],
 "metadata": {
  "kernelspec": {
   "display_name": "Python 3 (ipykernel)",
   "language": "python",
   "name": "python3"
  },
  "language_info": {
   "codemirror_mode": {
    "name": "ipython",
    "version": 3
   },
   "file_extension": ".py",
   "mimetype": "text/x-python",
   "name": "python",
   "nbconvert_exporter": "python",
   "pygments_lexer": "ipython3",
   "version": "3.9.6"
  }
 },
 "nbformat": 4,
 "nbformat_minor": 5
}
